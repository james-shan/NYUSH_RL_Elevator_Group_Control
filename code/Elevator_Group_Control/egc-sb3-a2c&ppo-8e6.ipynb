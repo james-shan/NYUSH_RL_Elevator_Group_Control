{
  "cells": [
    {
      "cell_type": "markdown",
      "metadata": {
        "id": "jeDAH0h0EBiG"
      },
      "source": [
        "Code to show a usecase of PPO on a Pendulum environment"
      ]
    },
    {
      "cell_type": "code",
      "execution_count": 2,
      "metadata": {
        "id": "cygWLPGsEQ0m"
      },
      "outputs": [],
      "source": [
        "import os\n",
        "import sys\n",
        "sys.path.insert(1, '/Users/keithwang/Desktop/Fall 2023/Reinforcement Learning/final project (final version)/RLevator/')\n",
        "from RLevator.rlevator.environment import RLevatorEnv\n",
        "import matplotlib.pyplot as plt\n",
        "import numpy as np\n",
        "from stable_baselines3 import A2C, PPO\n",
        "from stable_baselines3.common.monitor import Monitor"
      ]
    },
    {
      "cell_type": "code",
      "execution_count": 3,
      "metadata": {
        "id": "ZNPG0g_UGCfh"
      },
      "outputs": [
        {
          "name": "stdout",
          "output_type": "stream",
          "text": [
            "_____OBSERVATION SPACE_____ \n",
            "\n",
            "Observation Space Shape (48,)\n",
            "Sample observation [1 0 0 1 1 1 0 0 1 1 1 0 0 1 1 0 1 1 0 1 0 1 0 0 0 1 1 1 0 1 1 0 1 1 0 0 1\n",
            " 0 1 0 1 1 1 1 1 1 1 1]\n",
            "\n",
            " _____ACTION SPACE_____ \n",
            "\n",
            "Action Space Shape (3,)\n",
            "Action Space Sample [3 0 0]\n",
            "\n",
            " ################################################################# \n",
            "\n",
            "_____OBSERVATION SPACE_____ \n",
            "\n",
            "Observation Space Shape (48,)\n",
            "Sample observation [1 0 0 0 0 0 0 0 0 1 0 0 0 0 1 0 0 1 1 1 0 1 1 1 1 1 1 1 0 0 0 0 1 1 0 1 0\n",
            " 0 1 0 1 0 1 1 0 1 0 1]\n",
            "\n",
            " _____ACTION SPACE_____ \n",
            "\n",
            "Action Space Shape (3,)\n",
            "Action Space Sample [5 0 2]\n"
          ]
        }
      ],
      "source": [
        "env = RLevatorEnv(num_elevators=3, num_floors=6)\n",
        "env.reset()\n",
        "print(\"_____OBSERVATION SPACE_____ \\n\")\n",
        "print(\"Observation Space Shape\", env.observation_space.shape)\n",
        "print(\"Sample observation\", env.observation_space.sample()) # Get a random observation\n",
        "print(\"\\n _____ACTION SPACE_____ \\n\")\n",
        "print(\"Action Space Shape\", env.action_space.shape)\n",
        "print(\"Action Space Sample\", env.action_space.sample()) # Take a random action\n",
        "#print(\"Action Space High\", env.action_space.high) # Get the highest action value\n",
        "#print(\"Action Space Low\", env.action_space.low) # G#et the lowest action value\n",
        "print(\"\\n ################################################################# \\n\")\n",
        "env2 = RLevatorEnv(num_elevators=3, num_floors=6)\n",
        "env2.reset()\n",
        "print(\"_____OBSERVATION SPACE_____ \\n\")\n",
        "print(\"Observation Space Shape\", env2.observation_space.shape)\n",
        "print(\"Sample observation\", env2.observation_space.sample()) # Get a random observation\n",
        "print(\"\\n _____ACTION SPACE_____ \\n\")\n",
        "print(\"Action Space Shape\", env2.action_space.shape)\n",
        "print(\"Action Space Sample\", env2.action_space.sample()) # Take a random action"
      ]
    },
    {
      "cell_type": "markdown",
      "metadata": {
        "id": "VgrE86r5E5IK"
      },
      "source": [
        "## Create the Model\n",
        "- We are using an existing Deep RL library to set up the [PPO algorithm](https://stable-baselines3.readthedocs.io/en/master/modules/ppo.html#example%5D) and model, [Stable Baselines3 (SB3)](https://stable-baselines3.readthedocs.io/en/master/).\n",
        "\n",
        "- SB3 is a set of **reliable implementations of reinforcement learning algorithms in PyTorch**."
      ]
    },
    {
      "cell_type": "code",
      "execution_count": 4,
      "metadata": {
        "id": "543OHYDfcjK4"
      },
      "outputs": [
        {
          "name": "stdout",
          "output_type": "stream",
          "text": [
            "Using cpu device\n",
            "Wrapping the env in a DummyVecEnv.\n"
          ]
        }
      ],
      "source": [
        "# Wrap the environment\n",
        "log_dir = \"/tmp/gym/\"\n",
        "os.makedirs(log_dir, exist_ok=True)\n",
        "env = Monitor(env, log_dir)\n",
        "\n",
        "a2c_model = A2C(\n",
        "    policy = 'MlpPolicy',\n",
        "    env = env,\n",
        "    learning_rate=3e-4,\n",
        "    n_steps = 1024,\n",
        "    gamma = 0.999,\n",
        "    gae_lambda = 0.98,\n",
        "    ent_coef = 0.01,\n",
        "    verbose=1,\n",
        "    seed=42)\n",
        "\n",
        "\n"
      ]
    },
    {
      "cell_type": "code",
      "execution_count": 5,
      "metadata": {
        "id": "obru7ihQT3Rb"
      },
      "outputs": [
        {
          "data": {
            "application/vnd.jupyter.widget-view+json": {
              "model_id": "505fe32508174bf4bc022a8af60e8e2a",
              "version_major": 2,
              "version_minor": 0
            },
            "text/plain": [
              "Output()"
            ]
          },
          "metadata": {},
          "output_type": "display_data"
        },
        {
          "name": "stdout",
          "output_type": "stream",
          "text": [
            "-------------------------------------\n",
            "| rollout/              |           |\n",
            "|    ep_len_mean        | 1e+03     |\n",
            "|    ep_rew_mean        | -3.58e+04 |\n",
            "| time/                 |           |\n",
            "|    fps                | 2167      |\n",
            "|    iterations         | 500       |\n",
            "|    time_elapsed       | 236       |\n",
            "|    total_timesteps    | 512000    |\n",
            "| train/                |           |\n",
            "|    entropy_loss       | -5.33     |\n",
            "|    explained_variance | 9.13e-05  |\n",
            "|    learning_rate      | 0.0003    |\n",
            "|    n_updates          | 499       |\n",
            "|    policy_loss        | -6.95e+03 |\n",
            "|    value_loss         | 1.95e+06  |\n",
            "-------------------------------------\n"
          ]
        },
        {
          "name": "stdout",
          "output_type": "stream",
          "text": [
            "-------------------------------------\n",
            "| rollout/              |           |\n",
            "|    ep_len_mean        | 1e+03     |\n",
            "|    ep_rew_mean        | -2.61e+04 |\n",
            "| time/                 |           |\n",
            "|    fps                | 2182      |\n",
            "|    iterations         | 1000      |\n",
            "|    time_elapsed       | 469       |\n",
            "|    total_timesteps    | 1024000   |\n",
            "| train/                |           |\n",
            "|    entropy_loss       | -5.11     |\n",
            "|    explained_variance | 3.7e-06   |\n",
            "|    learning_rate      | 0.0003    |\n",
            "|    n_updates          | 999       |\n",
            "|    policy_loss        | -5.33e+03 |\n",
            "|    value_loss         | 1.21e+06  |\n",
            "-------------------------------------\n"
          ]
        },
        {
          "name": "stdout",
          "output_type": "stream",
          "text": [
            "-------------------------------------\n",
            "| rollout/              |           |\n",
            "|    ep_len_mean        | 1e+03     |\n",
            "|    ep_rew_mean        | -1.61e+04 |\n",
            "| time/                 |           |\n",
            "|    fps                | 2185      |\n",
            "|    iterations         | 1500      |\n",
            "|    time_elapsed       | 702       |\n",
            "|    total_timesteps    | 1536000   |\n",
            "| train/                |           |\n",
            "|    entropy_loss       | -4.95     |\n",
            "|    explained_variance | 2.21e-06  |\n",
            "|    learning_rate      | 0.0003    |\n",
            "|    n_updates          | 1499      |\n",
            "|    policy_loss        | -3e+03    |\n",
            "|    value_loss         | 4.51e+05  |\n",
            "-------------------------------------\n"
          ]
        },
        {
          "name": "stdout",
          "output_type": "stream",
          "text": [
            "-------------------------------------\n",
            "| rollout/              |           |\n",
            "|    ep_len_mean        | 1e+03     |\n",
            "|    ep_rew_mean        | -7.99e+03 |\n",
            "| time/                 |           |\n",
            "|    fps                | 2194      |\n",
            "|    iterations         | 2000      |\n",
            "|    time_elapsed       | 933       |\n",
            "|    total_timesteps    | 2048000   |\n",
            "| train/                |           |\n",
            "|    entropy_loss       | -4.73     |\n",
            "|    explained_variance | 4.77e-07  |\n",
            "|    learning_rate      | 0.0003    |\n",
            "|    n_updates          | 1999      |\n",
            "|    policy_loss        | -2.2e+03  |\n",
            "|    value_loss         | 3.12e+05  |\n",
            "-------------------------------------\n"
          ]
        },
        {
          "name": "stdout",
          "output_type": "stream",
          "text": [
            "------------------------------------\n",
            "| rollout/              |          |\n",
            "|    ep_len_mean        | 1e+03    |\n",
            "|    ep_rew_mean        | -381     |\n",
            "| time/                 |          |\n",
            "|    fps                | 2201     |\n",
            "|    iterations         | 2500     |\n",
            "|    time_elapsed       | 1162     |\n",
            "|    total_timesteps    | 2560000  |\n",
            "| train/                |          |\n",
            "|    entropy_loss       | -4.55    |\n",
            "|    explained_variance | 2.38e-07 |\n",
            "|    learning_rate      | 0.0003   |\n",
            "|    n_updates          | 2499     |\n",
            "|    policy_loss        | 554      |\n",
            "|    value_loss         | 1.04e+05 |\n",
            "------------------------------------\n"
          ]
        },
        {
          "name": "stdout",
          "output_type": "stream",
          "text": [
            "-------------------------------------\n",
            "| rollout/              |           |\n",
            "|    ep_len_mean        | 1e+03     |\n",
            "|    ep_rew_mean        | 3.78e+03  |\n",
            "| time/                 |           |\n",
            "|    fps                | 2199      |\n",
            "|    iterations         | 3000      |\n",
            "|    time_elapsed       | 1396      |\n",
            "|    total_timesteps    | 3072000   |\n",
            "| train/                |           |\n",
            "|    entropy_loss       | -4.35     |\n",
            "|    explained_variance | -1.43e-06 |\n",
            "|    learning_rate      | 0.0003    |\n",
            "|    n_updates          | 2999      |\n",
            "|    policy_loss        | 942       |\n",
            "|    value_loss         | 1.15e+05  |\n",
            "-------------------------------------\n"
          ]
        },
        {
          "name": "stdout",
          "output_type": "stream",
          "text": [
            "------------------------------------\n",
            "| rollout/              |          |\n",
            "|    ep_len_mean        | 1e+03    |\n",
            "|    ep_rew_mean        | 6.22e+03 |\n",
            "| time/                 |          |\n",
            "|    fps                | 2203     |\n",
            "|    iterations         | 3500     |\n",
            "|    time_elapsed       | 1626     |\n",
            "|    total_timesteps    | 3584000  |\n",
            "| train/                |          |\n",
            "|    entropy_loss       | -4.33    |\n",
            "|    explained_variance | -0.00046 |\n",
            "|    learning_rate      | 0.0003   |\n",
            "|    n_updates          | 3499     |\n",
            "|    policy_loss        | 637      |\n",
            "|    value_loss         | 1.16e+05 |\n",
            "------------------------------------\n"
          ]
        },
        {
          "name": "stdout",
          "output_type": "stream",
          "text": [
            "------------------------------------\n",
            "| rollout/              |          |\n",
            "|    ep_len_mean        | 1e+03    |\n",
            "|    ep_rew_mean        | 8.75e+03 |\n",
            "| time/                 |          |\n",
            "|    fps                | 2204     |\n",
            "|    iterations         | 4000     |\n",
            "|    time_elapsed       | 1858     |\n",
            "|    total_timesteps    | 4096000  |\n",
            "| train/                |          |\n",
            "|    entropy_loss       | -4.12    |\n",
            "|    explained_variance | 0.000395 |\n",
            "|    learning_rate      | 0.0003   |\n",
            "|    n_updates          | 3999     |\n",
            "|    policy_loss        | 1.36e+03 |\n",
            "|    value_loss         | 1.76e+05 |\n",
            "------------------------------------\n"
          ]
        },
        {
          "name": "stdout",
          "output_type": "stream",
          "text": [
            "------------------------------------\n",
            "| rollout/              |          |\n",
            "|    ep_len_mean        | 1e+03    |\n",
            "|    ep_rew_mean        | 9.94e+03 |\n",
            "| time/                 |          |\n",
            "|    fps                | 2201     |\n",
            "|    iterations         | 4500     |\n",
            "|    time_elapsed       | 2093     |\n",
            "|    total_timesteps    | 4608000  |\n",
            "| train/                |          |\n",
            "|    entropy_loss       | -4.02    |\n",
            "|    explained_variance | 2.35e-05 |\n",
            "|    learning_rate      | 0.0003   |\n",
            "|    n_updates          | 4499     |\n",
            "|    policy_loss        | 2.03e+03 |\n",
            "|    value_loss         | 3.22e+05 |\n",
            "------------------------------------\n"
          ]
        },
        {
          "data": {
            "text/html": [
              "<pre style=\"white-space:pre;overflow-x:auto;line-height:normal;font-family:Menlo,'DejaVu Sans Mono',consolas,'Courier New',monospace\"></pre>\n"
            ],
            "text/plain": []
          },
          "metadata": {},
          "output_type": "display_data"
        },
        {
          "data": {
            "text/html": [
              "<pre style=\"white-space:pre;overflow-x:auto;line-height:normal;font-family:Menlo,'DejaVu Sans Mono',consolas,'Courier New',monospace\">\n",
              "</pre>\n"
            ],
            "text/plain": [
              "\n"
            ]
          },
          "metadata": {},
          "output_type": "display_data"
        },
        {
          "data": {
            "text/plain": [
              "<stable_baselines3.a2c.a2c.A2C at 0x108098220>"
            ]
          },
          "execution_count": 5,
          "metadata": {},
          "output_type": "execute_result"
        }
      ],
      "source": [
        "a2c_model.learn(total_timesteps=5e6, log_interval=500, progress_bar=True)"
      ]
    },
    {
      "cell_type": "code",
      "execution_count": 6,
      "metadata": {},
      "outputs": [
        {
          "name": "stdout",
          "output_type": "stream",
          "text": [
            "Using cpu device\n",
            "Wrapping the env in a DummyVecEnv.\n"
          ]
        }
      ],
      "source": [
        "env2 = Monitor(env2, log_dir)\n",
        "\n",
        "ppo_model = PPO(\n",
        "    policy = 'MlpPolicy',\n",
        "    env = env2,\n",
        "    learning_rate=3e-4,\n",
        "    n_steps = 1024,\n",
        "    batch_size = 256,\n",
        "    n_epochs = 4,\n",
        "    gamma = 0.999,\n",
        "    gae_lambda = 0.98,\n",
        "    ent_coef = 0.01,\n",
        "    verbose=1,\n",
        "    seed=42)"
      ]
    },
    {
      "cell_type": "code",
      "execution_count": 7,
      "metadata": {},
      "outputs": [
        {
          "data": {
            "application/vnd.jupyter.widget-view+json": {
              "model_id": "116d39eb89ce43f98a55be6a8dc5392e",
              "version_major": 2,
              "version_minor": 0
            },
            "text/plain": [
              "Output()"
            ]
          },
          "metadata": {},
          "output_type": "display_data"
        },
        {
          "name": "stdout",
          "output_type": "stream",
          "text": [
            "------------------------------------------\n",
            "| rollout/                |              |\n",
            "|    ep_len_mean          | 1e+03        |\n",
            "|    ep_rew_mean          | -3.71e+04    |\n",
            "| time/                   |              |\n",
            "|    fps                  | 1951         |\n",
            "|    iterations           | 500          |\n",
            "|    time_elapsed         | 262          |\n",
            "|    total_timesteps      | 512000       |\n",
            "| train/                  |              |\n",
            "|    approx_kl            | 2.379762e-06 |\n",
            "|    clip_fraction        | 0            |\n",
            "|    clip_range           | 0.2          |\n",
            "|    entropy_loss         | -5.33        |\n",
            "|    explained_variance   | 5.36e-07     |\n",
            "|    learning_rate        | 0.0003       |\n",
            "|    loss                 | 1.5e+06      |\n",
            "|    n_updates            | 1996         |\n",
            "|    policy_gradient_loss | -0.000179    |\n",
            "|    value_loss           | 2.87e+06     |\n",
            "------------------------------------------\n"
          ]
        },
        {
          "name": "stdout",
          "output_type": "stream",
          "text": [
            "------------------------------------------\n",
            "| rollout/                |              |\n",
            "|    ep_len_mean          | 1e+03        |\n",
            "|    ep_rew_mean          | -2.69e+04    |\n",
            "| time/                   |              |\n",
            "|    fps                  | 1977         |\n",
            "|    iterations           | 1000         |\n",
            "|    time_elapsed         | 517          |\n",
            "|    total_timesteps      | 1024000      |\n",
            "| train/                  |              |\n",
            "|    approx_kl            | 4.477275e-06 |\n",
            "|    clip_fraction        | 0            |\n",
            "|    clip_range           | 0.2          |\n",
            "|    entropy_loss         | -5.2         |\n",
            "|    explained_variance   | -2.38e-07    |\n",
            "|    learning_rate        | 0.0003       |\n",
            "|    loss                 | 8.55e+05     |\n",
            "|    n_updates            | 3996         |\n",
            "|    policy_gradient_loss | -0.000198    |\n",
            "|    value_loss           | 1.75e+06     |\n",
            "------------------------------------------\n"
          ]
        },
        {
          "name": "stdout",
          "output_type": "stream",
          "text": [
            "-------------------------------------------\n",
            "| rollout/                |               |\n",
            "|    ep_len_mean          | 1e+03         |\n",
            "|    ep_rew_mean          | -1.8e+04      |\n",
            "| time/                   |               |\n",
            "|    fps                  | 1990          |\n",
            "|    iterations           | 1500          |\n",
            "|    time_elapsed         | 771           |\n",
            "|    total_timesteps      | 1536000       |\n",
            "| train/                  |               |\n",
            "|    approx_kl            | 1.8180173e-05 |\n",
            "|    clip_fraction        | 0             |\n",
            "|    clip_range           | 0.2           |\n",
            "|    entropy_loss         | -5.04         |\n",
            "|    explained_variance   | 1.79e-07      |\n",
            "|    learning_rate        | 0.0003        |\n",
            "|    loss                 | 2.4e+05       |\n",
            "|    n_updates            | 5996          |\n",
            "|    policy_gradient_loss | -0.000494     |\n",
            "|    value_loss           | 4.72e+05      |\n",
            "-------------------------------------------\n"
          ]
        },
        {
          "name": "stdout",
          "output_type": "stream",
          "text": [
            "------------------------------------------\n",
            "| rollout/                |              |\n",
            "|    ep_len_mean          | 1e+03        |\n",
            "|    ep_rew_mean          | -1e+04       |\n",
            "| time/                   |              |\n",
            "|    fps                  | 2006         |\n",
            "|    iterations           | 2000         |\n",
            "|    time_elapsed         | 1020         |\n",
            "|    total_timesteps      | 2048000      |\n",
            "| train/                  |              |\n",
            "|    approx_kl            | 3.472611e-05 |\n",
            "|    clip_fraction        | 0            |\n",
            "|    clip_range           | 0.2          |\n",
            "|    entropy_loss         | -4.89        |\n",
            "|    explained_variance   | 1.19e-07     |\n",
            "|    learning_rate        | 0.0003       |\n",
            "|    loss                 | 1.15e+05     |\n",
            "|    n_updates            | 7996         |\n",
            "|    policy_gradient_loss | -0.000788    |\n",
            "|    value_loss           | 2.16e+05     |\n",
            "------------------------------------------\n"
          ]
        },
        {
          "name": "stdout",
          "output_type": "stream",
          "text": [
            "------------------------------------------\n",
            "| rollout/                |              |\n",
            "|    ep_len_mean          | 1e+03        |\n",
            "|    ep_rew_mean          | -53.1        |\n",
            "| time/                   |              |\n",
            "|    fps                  | 2017         |\n",
            "|    iterations           | 2500         |\n",
            "|    time_elapsed         | 1268         |\n",
            "|    total_timesteps      | 2560000      |\n",
            "| train/                  |              |\n",
            "|    approx_kl            | 5.752023e-06 |\n",
            "|    clip_fraction        | 0            |\n",
            "|    clip_range           | 0.2          |\n",
            "|    entropy_loss         | -4.54        |\n",
            "|    explained_variance   | 1.19e-07     |\n",
            "|    learning_rate        | 0.0003       |\n",
            "|    loss                 | 7.89e+04     |\n",
            "|    n_updates            | 9996         |\n",
            "|    policy_gradient_loss | -0.000283    |\n",
            "|    value_loss           | 1.54e+05     |\n",
            "------------------------------------------\n"
          ]
        },
        {
          "name": "stdout",
          "output_type": "stream",
          "text": [
            "-------------------------------------------\n",
            "| rollout/                |               |\n",
            "|    ep_len_mean          | 1e+03         |\n",
            "|    ep_rew_mean          | 5.13e+03      |\n",
            "| time/                   |               |\n",
            "|    fps                  | 2018          |\n",
            "|    iterations           | 3000          |\n",
            "|    time_elapsed         | 1521          |\n",
            "|    total_timesteps      | 3072000       |\n",
            "| train/                  |               |\n",
            "|    approx_kl            | 5.1670126e-05 |\n",
            "|    clip_fraction        | 0             |\n",
            "|    clip_range           | 0.2           |\n",
            "|    entropy_loss         | -4.29         |\n",
            "|    explained_variance   | 6.14e-06      |\n",
            "|    learning_rate        | 0.0003        |\n",
            "|    loss                 | 5.72e+04      |\n",
            "|    n_updates            | 11996         |\n",
            "|    policy_gradient_loss | -0.00064      |\n",
            "|    value_loss           | 1.13e+05      |\n",
            "-------------------------------------------\n"
          ]
        },
        {
          "name": "stdout",
          "output_type": "stream",
          "text": [
            "------------------------------------------\n",
            "| rollout/                |              |\n",
            "|    ep_len_mean          | 1e+03        |\n",
            "|    ep_rew_mean          | 7.44e+03     |\n",
            "| time/                   |              |\n",
            "|    fps                  | 2023         |\n",
            "|    iterations           | 3500         |\n",
            "|    time_elapsed         | 1771         |\n",
            "|    total_timesteps      | 3584000      |\n",
            "| train/                  |              |\n",
            "|    approx_kl            | 8.301751e-05 |\n",
            "|    clip_fraction        | 0            |\n",
            "|    clip_range           | 0.2          |\n",
            "|    entropy_loss         | -4.13        |\n",
            "|    explained_variance   | -4.77e-07    |\n",
            "|    learning_rate        | 0.0003       |\n",
            "|    loss                 | 9.15e+04     |\n",
            "|    n_updates            | 13996        |\n",
            "|    policy_gradient_loss | -0.000359    |\n",
            "|    value_loss           | 1.86e+05     |\n",
            "------------------------------------------\n"
          ]
        },
        {
          "name": "stdout",
          "output_type": "stream",
          "text": [
            "-------------------------------------------\n",
            "| rollout/                |               |\n",
            "|    ep_len_mean          | 1e+03         |\n",
            "|    ep_rew_mean          | 1.09e+04      |\n",
            "| time/                   |               |\n",
            "|    fps                  | 2027          |\n",
            "|    iterations           | 4000          |\n",
            "|    time_elapsed         | 2020          |\n",
            "|    total_timesteps      | 4096000       |\n",
            "| train/                  |               |\n",
            "|    approx_kl            | 0.00012071355 |\n",
            "|    clip_fraction        | 0             |\n",
            "|    clip_range           | 0.2           |\n",
            "|    entropy_loss         | -4.11         |\n",
            "|    explained_variance   | -1.19e-07     |\n",
            "|    learning_rate        | 0.0003        |\n",
            "|    loss                 | 1.39e+05      |\n",
            "|    n_updates            | 15996         |\n",
            "|    policy_gradient_loss | -0.00142      |\n",
            "|    value_loss           | 2.86e+05      |\n",
            "-------------------------------------------\n"
          ]
        },
        {
          "name": "stdout",
          "output_type": "stream",
          "text": [
            "-------------------------------------------\n",
            "| rollout/                |               |\n",
            "|    ep_len_mean          | 1e+03         |\n",
            "|    ep_rew_mean          | 1.22e+04      |\n",
            "| time/                   |               |\n",
            "|    fps                  | 2035          |\n",
            "|    iterations           | 4500          |\n",
            "|    time_elapsed         | 2263          |\n",
            "|    total_timesteps      | 4608000       |\n",
            "| train/                  |               |\n",
            "|    approx_kl            | 6.4542226e-05 |\n",
            "|    clip_fraction        | 0             |\n",
            "|    clip_range           | 0.2           |\n",
            "|    entropy_loss         | -4.08         |\n",
            "|    explained_variance   | 1.19e-07      |\n",
            "|    learning_rate        | 0.0003        |\n",
            "|    loss                 | 1.18e+05      |\n",
            "|    n_updates            | 17996         |\n",
            "|    policy_gradient_loss | -0.000759     |\n",
            "|    value_loss           | 2.36e+05      |\n",
            "-------------------------------------------\n"
          ]
        },
        {
          "data": {
            "text/html": [
              "<pre style=\"white-space:pre;overflow-x:auto;line-height:normal;font-family:Menlo,'DejaVu Sans Mono',consolas,'Courier New',monospace\"></pre>\n"
            ],
            "text/plain": []
          },
          "metadata": {},
          "output_type": "display_data"
        },
        {
          "data": {
            "text/html": [
              "<pre style=\"white-space:pre;overflow-x:auto;line-height:normal;font-family:Menlo,'DejaVu Sans Mono',consolas,'Courier New',monospace\">\n",
              "</pre>\n"
            ],
            "text/plain": [
              "\n"
            ]
          },
          "metadata": {},
          "output_type": "display_data"
        },
        {
          "data": {
            "text/plain": [
              "<stable_baselines3.ppo.ppo.PPO at 0x2835652a0>"
            ]
          },
          "execution_count": 7,
          "metadata": {},
          "output_type": "execute_result"
        }
      ],
      "source": [
        "ppo_model.learn(total_timesteps=5e6, log_interval=500, progress_bar=True)"
      ]
    },
    {
      "cell_type": "code",
      "execution_count": 8,
      "metadata": {
        "id": "xsaO7Hd-ydFk"
      },
      "outputs": [
        {
          "data": {
            "image/png": "[encoded data removed]",
            "text/plain": [
              "<Figure size 640x480 with 1 Axes>"
            ]
          },
          "metadata": {},
          "output_type": "display_data"
        }
      ],
      "source": [
        "episode_rew_a2c = env.get_episode_rewards()\n",
        "episode_rew_ppo = env2.get_episode_rewards()\n",
        "episode_rew_a2c_ma = (np.convolve(episode_rew_a2c, np.ones(100), \"valid\") / 100)\n",
        "episode_rew_ppo_ma = (np.convolve(episode_rew_ppo, np.ones(100), \"valid\") / 100)\n",
        "plt.plot(np.arange(100, len(episode_rew_a2c)+1), episode_rew_a2c_ma, label=\"A2C\")\n",
        "plt.plot(np.arange(100, len(episode_rew_ppo)+1), episode_rew_ppo_ma, label=\"PPO\")\n",
        "plt.ylabel('Average Reward for the past 100 episodes')\n",
        "plt.xlabel('Episode #')\n",
        "plt.legend()\n",
        "plt.savefig('a2c&ppo-8e6.png')"
      ]
    }
  ],
  "metadata": {
    "accelerator": "GPU",
    "colab": {
      "gpuType": "T4",
      "provenance": []
    },
    "kernelspec": {
      "display_name": "Python 3",
      "name": "python3"
    },
    "language_info": {
      "codemirror_mode": {
        "name": "ipython",
        "version": 3
      },
      "file_extension": ".py",
      "mimetype": "text/x-python",
      "name": "python",
      "nbconvert_exporter": "python",
      "pygments_lexer": "ipython3",
      "version": "3.10.10"
    },
    "vscode": {
      "interpreter": {
        "hash": "ed7f8024e43d3b8f5ca3c5e1a8151ab4d136b3ecee1e3fd59e0766ccc55e1b10"
      }
    }
  },
  "nbformat": 4,
  "nbformat_minor": 0
}
